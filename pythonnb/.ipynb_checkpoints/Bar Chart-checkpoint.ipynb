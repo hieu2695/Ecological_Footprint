{
 "cells": [
  {
   "cell_type": "markdown",
   "metadata": {},
   "source": [
    "### In this notebook, we calculated the propotion of deficit/reserve in 2016 and the percentage change of ecological footprint consumption during the period."
   ]
  },
  {
   "cell_type": "code",
   "execution_count": 1,
   "metadata": {},
   "outputs": [],
   "source": [
    "# Load some libraries\n",
    "import pandas as pd\n",
    "import json\n",
    "from pandas import DataFrame\n",
    "import numpy as np\n",
    "import warnings\n",
    "warnings.filterwarnings(\"ignore\")"
   ]
  },
  {
   "cell_type": "code",
   "execution_count": 2,
   "metadata": {},
   "outputs": [],
   "source": [
    "df = pd.read_csv(\"../data/data0.csv\") # read csv files"
   ]
  },
  {
   "cell_type": "code",
   "execution_count": 3,
   "metadata": {},
   "outputs": [
    {
     "data": {
      "text/html": [
       "<div>\n",
       "<style scoped>\n",
       "    .dataframe tbody tr th:only-of-type {\n",
       "        vertical-align: middle;\n",
       "    }\n",
       "\n",
       "    .dataframe tbody tr th {\n",
       "        vertical-align: top;\n",
       "    }\n",
       "\n",
       "    .dataframe thead th {\n",
       "        text-align: right;\n",
       "    }\n",
       "</style>\n",
       "<table border=\"1\" class=\"dataframe\">\n",
       "  <thead>\n",
       "    <tr style=\"text-align: right;\">\n",
       "      <th></th>\n",
       "      <th>Year</th>\n",
       "      <th>Country</th>\n",
       "      <th>Code</th>\n",
       "      <th>Parameter</th>\n",
       "      <th>Cropland</th>\n",
       "      <th>Grazing</th>\n",
       "      <th>Forest</th>\n",
       "      <th>Fishing</th>\n",
       "      <th>Builtup</th>\n",
       "      <th>Carbon</th>\n",
       "      <th>Total</th>\n",
       "    </tr>\n",
       "  </thead>\n",
       "  <tbody>\n",
       "    <tr>\n",
       "      <td>0</td>\n",
       "      <td>1975</td>\n",
       "      <td>United Arab Emirates</td>\n",
       "      <td>AE</td>\n",
       "      <td>GDP</td>\n",
       "      <td>NaN</td>\n",
       "      <td>NaN</td>\n",
       "      <td>NaN</td>\n",
       "      <td>NaN</td>\n",
       "      <td>NaN</td>\n",
       "      <td>NaN</td>\n",
       "      <td>102479.187500</td>\n",
       "    </tr>\n",
       "    <tr>\n",
       "      <td>1</td>\n",
       "      <td>1976</td>\n",
       "      <td>United Arab Emirates</td>\n",
       "      <td>AE</td>\n",
       "      <td>GDP</td>\n",
       "      <td>NaN</td>\n",
       "      <td>NaN</td>\n",
       "      <td>NaN</td>\n",
       "      <td>NaN</td>\n",
       "      <td>NaN</td>\n",
       "      <td>NaN</td>\n",
       "      <td>102319.726562</td>\n",
       "    </tr>\n",
       "    <tr>\n",
       "      <td>2</td>\n",
       "      <td>1977</td>\n",
       "      <td>United Arab Emirates</td>\n",
       "      <td>AE</td>\n",
       "      <td>GDP</td>\n",
       "      <td>NaN</td>\n",
       "      <td>NaN</td>\n",
       "      <td>NaN</td>\n",
       "      <td>NaN</td>\n",
       "      <td>NaN</td>\n",
       "      <td>NaN</td>\n",
       "      <td>107452.179688</td>\n",
       "    </tr>\n",
       "    <tr>\n",
       "      <td>3</td>\n",
       "      <td>1978</td>\n",
       "      <td>United Arab Emirates</td>\n",
       "      <td>AE</td>\n",
       "      <td>GDP</td>\n",
       "      <td>NaN</td>\n",
       "      <td>NaN</td>\n",
       "      <td>NaN</td>\n",
       "      <td>NaN</td>\n",
       "      <td>NaN</td>\n",
       "      <td>NaN</td>\n",
       "      <td>92822.359375</td>\n",
       "    </tr>\n",
       "    <tr>\n",
       "      <td>4</td>\n",
       "      <td>1979</td>\n",
       "      <td>United Arab Emirates</td>\n",
       "      <td>AE</td>\n",
       "      <td>GDP</td>\n",
       "      <td>NaN</td>\n",
       "      <td>NaN</td>\n",
       "      <td>NaN</td>\n",
       "      <td>NaN</td>\n",
       "      <td>NaN</td>\n",
       "      <td>NaN</td>\n",
       "      <td>100480.437500</td>\n",
       "    </tr>\n",
       "  </tbody>\n",
       "</table>\n",
       "</div>"
      ],
      "text/plain": [
       "   Year               Country Code Parameter  Cropland  Grazing  Forest  \\\n",
       "0  1975  United Arab Emirates   AE       GDP       NaN      NaN     NaN   \n",
       "1  1976  United Arab Emirates   AE       GDP       NaN      NaN     NaN   \n",
       "2  1977  United Arab Emirates   AE       GDP       NaN      NaN     NaN   \n",
       "3  1978  United Arab Emirates   AE       GDP       NaN      NaN     NaN   \n",
       "4  1979  United Arab Emirates   AE       GDP       NaN      NaN     NaN   \n",
       "\n",
       "   Fishing  Builtup  Carbon          Total  \n",
       "0      NaN      NaN     NaN  102479.187500  \n",
       "1      NaN      NaN     NaN  102319.726562  \n",
       "2      NaN      NaN     NaN  107452.179688  \n",
       "3      NaN      NaN     NaN   92822.359375  \n",
       "4      NaN      NaN     NaN  100480.437500  "
      ]
     },
     "execution_count": 3,
     "metadata": {},
     "output_type": "execute_result"
    }
   ],
   "source": [
    "df.head()"
   ]
  },
  {
   "cell_type": "code",
   "execution_count": 4,
   "metadata": {},
   "outputs": [],
   "source": [
    "regions = ['Africa',\n",
    " 'Central America',\n",
    " 'Central Asia',\n",
    " 'Eastern Africa',\n",
    " 'Eastern Asia',\n",
    " 'Eastern Europe',\n",
    " 'Europe',\n",
    " 'Latin America and the Caribbean',\n",
    " 'Middle Africa',\n",
    " 'North America',\n",
    " 'Northern Africa',\n",
    " 'Northern Europe',\n",
    " 'Oceania',\n",
    " 'South America',\n",
    " 'South-Eastern Asia',\n",
    " 'Southern Africa',\n",
    " 'Southern Asia',\n",
    " 'Southern Europe',\n",
    " 'Western Africa',\n",
    " 'Western Asia',\n",
    " 'Western Europe']"
   ]
  },
  {
   "cell_type": "code",
   "execution_count": 5,
   "metadata": {},
   "outputs": [],
   "source": [
    "df = df[(df[\"Country\"].isin(regions))&(df[\"Year\"].isin([\"1961\",\"2016\"]))]"
   ]
  },
  {
   "cell_type": "code",
   "execution_count": 6,
   "metadata": {},
   "outputs": [],
   "source": [
    "newdf = df[['Year','Country']]\n",
    "newdf.drop_duplicates(inplace=True) \n",
    "newdf = newdf.reindex(columns = newdf.columns.tolist() + ['BiocapPerCap','EFConsPerCap','Percentage','Change'])"
   ]
  },
  {
   "cell_type": "code",
   "execution_count": 7,
   "metadata": {},
   "outputs": [],
   "source": [
    "# fill the values in the newdf using data from df\n",
    "# loop for the year, countries and the columns in the dataframe newdf\n",
    "# use try, except to avoid missing values because some countries miss record at certain years\n",
    "\n",
    "for year in [1961,2016]:\n",
    "    for region in regions:\n",
    "            try:\n",
    "                newdf.loc[(newdf.Country == region) & (newdf.Year == year),['EFConsPerCap']] = float(df[(df.Country == region) & (df.Year == year) & (df.Parameter == 'EFConsPerCap')]['Total'])\n",
    "                newdf.loc[(newdf.Country == region) & (newdf.Year == year),['BiocapPerCap']] = float(df[(df.Country == region) & (df.Year == year) & (df.Parameter == 'BiocapPerCap')]['Total'])\n",
    "            except:\n",
    "                pass\n",
    "        \n",
    "        "
   ]
  },
  {
   "cell_type": "code",
   "execution_count": 8,
   "metadata": {},
   "outputs": [
    {
     "data": {
      "text/html": [
       "<div>\n",
       "<style scoped>\n",
       "    .dataframe tbody tr th:only-of-type {\n",
       "        vertical-align: middle;\n",
       "    }\n",
       "\n",
       "    .dataframe tbody tr th {\n",
       "        vertical-align: top;\n",
       "    }\n",
       "\n",
       "    .dataframe thead th {\n",
       "        text-align: right;\n",
       "    }\n",
       "</style>\n",
       "<table border=\"1\" class=\"dataframe\">\n",
       "  <thead>\n",
       "    <tr style=\"text-align: right;\">\n",
       "      <th></th>\n",
       "      <th>Year</th>\n",
       "      <th>Country</th>\n",
       "      <th>BiocapPerCap</th>\n",
       "      <th>EFConsPerCap</th>\n",
       "      <th>Percentage</th>\n",
       "      <th>Change</th>\n",
       "    </tr>\n",
       "  </thead>\n",
       "  <tbody>\n",
       "    <tr>\n",
       "      <td>66067</td>\n",
       "      <td>1961</td>\n",
       "      <td>Caribbean</td>\n",
       "      <td>1.061084</td>\n",
       "      <td>1.068321</td>\n",
       "      <td>NaN</td>\n",
       "      <td>NaN</td>\n",
       "    </tr>\n",
       "    <tr>\n",
       "      <td>66068</td>\n",
       "      <td>1961</td>\n",
       "      <td>Central America</td>\n",
       "      <td>3.948856</td>\n",
       "      <td>1.844198</td>\n",
       "      <td>NaN</td>\n",
       "      <td>NaN</td>\n",
       "    </tr>\n",
       "    <tr>\n",
       "      <td>66069</td>\n",
       "      <td>1961</td>\n",
       "      <td>Central Asia</td>\n",
       "      <td>2.658406</td>\n",
       "      <td>3.795831</td>\n",
       "      <td>NaN</td>\n",
       "      <td>NaN</td>\n",
       "    </tr>\n",
       "    <tr>\n",
       "      <td>66070</td>\n",
       "      <td>1961</td>\n",
       "      <td>Eastern Africa</td>\n",
       "      <td>3.147390</td>\n",
       "      <td>1.711367</td>\n",
       "      <td>NaN</td>\n",
       "      <td>NaN</td>\n",
       "    </tr>\n",
       "    <tr>\n",
       "      <td>66071</td>\n",
       "      <td>1961</td>\n",
       "      <td>Eastern Asia</td>\n",
       "      <td>1.045389</td>\n",
       "      <td>1.179734</td>\n",
       "      <td>NaN</td>\n",
       "      <td>NaN</td>\n",
       "    </tr>\n",
       "  </tbody>\n",
       "</table>\n",
       "</div>"
      ],
      "text/plain": [
       "       Year          Country  BiocapPerCap  EFConsPerCap  Percentage  Change\n",
       "66067  1961        Caribbean      1.061084      1.068321         NaN     NaN\n",
       "66068  1961  Central America      3.948856      1.844198         NaN     NaN\n",
       "66069  1961     Central Asia      2.658406      3.795831         NaN     NaN\n",
       "66070  1961   Eastern Africa      3.147390      1.711367         NaN     NaN\n",
       "66071  1961     Eastern Asia      1.045389      1.179734         NaN     NaN"
      ]
     },
     "execution_count": 8,
     "metadata": {},
     "output_type": "execute_result"
    }
   ],
   "source": [
    "newdf.head()"
   ]
  },
  {
   "cell_type": "code",
   "execution_count": 9,
   "metadata": {},
   "outputs": [],
   "source": [
    "# calculate the deficit/reserve as percentage of biocapacity\n",
    "newdf['Percentage'] = (newdf['BiocapPerCap'] - newdf['EFConsPerCap']) / newdf['BiocapPerCap'] \n",
    "# reset index\n",
    "newdf.reset_index(drop=True, inplace=True)"
   ]
  },
  {
   "cell_type": "code",
   "execution_count": 10,
   "metadata": {},
   "outputs": [],
   "source": [
    "df1 = pd.DataFrame(index=np.arange(len(regions)),columns = [\"Region\",\"Percentage\",\"Change\"])"
   ]
  },
  {
   "cell_type": "code",
   "execution_count": 11,
   "metadata": {},
   "outputs": [],
   "source": [
    "for i in range(0,len(regions)):\n",
    "    df1.ix[i,\"Region\"] = regions[i]\n",
    "    df1.ix[i,\"Percentage\"] = float(newdf.loc[(newdf.Country == regions[i])&(newdf.Year == 2016)][\"Percentage\"])\n",
    "    val2016 = float(newdf.loc[(newdf.Country == regions[i])&(newdf.Year == 2016)][\"EFConsPerCap\"])\n",
    "    val1961 = float(newdf.loc[(newdf.Country == regions[i])&(newdf.Year == 1961)][\"EFConsPerCap\"])\n",
    "    df1.ix[i,\"Change\"] = (val2016-val1961)/val1961"
   ]
  },
  {
   "cell_type": "code",
   "execution_count": 13,
   "metadata": {},
   "outputs": [],
   "source": [
    "df1[\"Percentage\"] = (df1[\"Percentage\"]*100).apply(lambda x: round(x, 1)) \n",
    "df1[\"Change\"] = (df1[\"Change\"]*100).apply(lambda x: round(x, 1)) "
   ]
  },
  {
   "cell_type": "code",
   "execution_count": 19,
   "metadata": {},
   "outputs": [],
   "source": [
    "df1.columns = ['Region','Deficit/Reserve Rate','Ecological Footprint Change Rate ']"
   ]
  },
  {
   "cell_type": "code",
   "execution_count": 20,
   "metadata": {},
   "outputs": [
    {
     "data": {
      "text/html": [
       "<div>\n",
       "<style scoped>\n",
       "    .dataframe tbody tr th:only-of-type {\n",
       "        vertical-align: middle;\n",
       "    }\n",
       "\n",
       "    .dataframe tbody tr th {\n",
       "        vertical-align: top;\n",
       "    }\n",
       "\n",
       "    .dataframe thead th {\n",
       "        text-align: right;\n",
       "    }\n",
       "</style>\n",
       "<table border=\"1\" class=\"dataframe\">\n",
       "  <thead>\n",
       "    <tr style=\"text-align: right;\">\n",
       "      <th></th>\n",
       "      <th>Region</th>\n",
       "      <th>Deficit/Reserve Rate</th>\n",
       "      <th>Ecological Footprint Change Rate</th>\n",
       "    </tr>\n",
       "  </thead>\n",
       "  <tbody>\n",
       "    <tr>\n",
       "      <td>0</td>\n",
       "      <td>Africa</td>\n",
       "      <td>-15.9</td>\n",
       "      <td>1.4</td>\n",
       "    </tr>\n",
       "    <tr>\n",
       "      <td>1</td>\n",
       "      <td>Asia</td>\n",
       "      <td>-210.1</td>\n",
       "      <td>123.9</td>\n",
       "    </tr>\n",
       "    <tr>\n",
       "      <td>2</td>\n",
       "      <td>Caribbean</td>\n",
       "      <td>-162.8</td>\n",
       "      <td>60.6</td>\n",
       "    </tr>\n",
       "    <tr>\n",
       "      <td>3</td>\n",
       "      <td>Central America</td>\n",
       "      <td>-95.0</td>\n",
       "      <td>31.8</td>\n",
       "    </tr>\n",
       "    <tr>\n",
       "      <td>4</td>\n",
       "      <td>Central Asia</td>\n",
       "      <td>-78.3</td>\n",
       "      <td>-21.3</td>\n",
       "    </tr>\n",
       "  </tbody>\n",
       "</table>\n",
       "</div>"
      ],
      "text/plain": [
       "            Region  Deficit/Reserve Rate  Ecological Footprint Change Rate \n",
       "0           Africa                 -15.9                                1.4\n",
       "1             Asia                -210.1                              123.9\n",
       "2        Caribbean                -162.8                               60.6\n",
       "3  Central America                 -95.0                               31.8\n",
       "4     Central Asia                 -78.3                              -21.3"
      ]
     },
     "execution_count": 20,
     "metadata": {},
     "output_type": "execute_result"
    }
   ],
   "source": [
    "df1.head()"
   ]
  },
  {
   "cell_type": "code",
   "execution_count": 21,
   "metadata": {},
   "outputs": [],
   "source": [
    "df1.to_csv(path_or_buf=\"../data/BarChart.csv\", index = False)"
   ]
  },
  {
   "cell_type": "code",
   "execution_count": null,
   "metadata": {},
   "outputs": [],
   "source": []
  }
 ],
 "metadata": {
  "kernelspec": {
   "display_name": "Python 3",
   "language": "python",
   "name": "python3"
  },
  "language_info": {
   "codemirror_mode": {
    "name": "ipython",
    "version": 3
   },
   "file_extension": ".py",
   "mimetype": "text/x-python",
   "name": "python",
   "nbconvert_exporter": "python",
   "pygments_lexer": "ipython3",
   "version": "3.7.4"
  }
 },
 "nbformat": 4,
 "nbformat_minor": 2
}
