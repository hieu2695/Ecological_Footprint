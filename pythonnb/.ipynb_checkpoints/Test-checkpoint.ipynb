{
 "cells": [
  {
   "cell_type": "code",
   "execution_count": 1,
   "metadata": {},
   "outputs": [],
   "source": [
    "# Load some libraries\n",
    "import pandas as pd\n",
    "import json\n",
    "from pandas import DataFrame\n",
    "import numpy as np\n",
    "import warnings\n",
    "warnings.filterwarnings(\"ignore\")"
   ]
  },
  {
   "cell_type": "code",
   "execution_count": 3,
   "metadata": {},
   "outputs": [],
   "source": [
    "df = pd.read_csv(\"../data/DeRedata.csv\")"
   ]
  },
  {
   "cell_type": "code",
   "execution_count": 6,
   "metadata": {},
   "outputs": [
    {
     "data": {
      "text/html": [
       "<div>\n",
       "<style scoped>\n",
       "    .dataframe tbody tr th:only-of-type {\n",
       "        vertical-align: middle;\n",
       "    }\n",
       "\n",
       "    .dataframe tbody tr th {\n",
       "        vertical-align: top;\n",
       "    }\n",
       "\n",
       "    .dataframe thead th {\n",
       "        text-align: right;\n",
       "    }\n",
       "</style>\n",
       "<table border=\"1\" class=\"dataframe\">\n",
       "  <thead>\n",
       "    <tr style=\"text-align: right;\">\n",
       "      <th></th>\n",
       "      <th>Year</th>\n",
       "      <th>Country</th>\n",
       "      <th>Code</th>\n",
       "      <th>Earths</th>\n",
       "      <th>HDI</th>\n",
       "      <th>Population</th>\n",
       "      <th>BiocapPerCap</th>\n",
       "      <th>BiocapTotGHA</th>\n",
       "      <th>EFConsPerCap</th>\n",
       "      <th>EFConsTotGHA</th>\n",
       "      <th>DeRe</th>\n",
       "      <th>Percentage</th>\n",
       "      <th>Region</th>\n",
       "      <th>Income</th>\n",
       "      <th>id</th>\n",
       "    </tr>\n",
       "  </thead>\n",
       "  <tbody>\n",
       "    <tr>\n",
       "      <td>0</td>\n",
       "      <td>1990</td>\n",
       "      <td>United Arab Emirates</td>\n",
       "      <td>AE</td>\n",
       "      <td>6.237739</td>\n",
       "      <td>0.727</td>\n",
       "      <td>1860174.0</td>\n",
       "      <td>2.602391</td>\n",
       "      <td>4.840890e+06</td>\n",
       "      <td>12.902908</td>\n",
       "      <td>2.400160e+07</td>\n",
       "      <td>-10.300517</td>\n",
       "      <td>-3.958097</td>\n",
       "      <td>Middle East/Central Asia</td>\n",
       "      <td>HI</td>\n",
       "      <td>ARE</td>\n",
       "    </tr>\n",
       "    <tr>\n",
       "      <td>1</td>\n",
       "      <td>1991</td>\n",
       "      <td>United Arab Emirates</td>\n",
       "      <td>AE</td>\n",
       "      <td>6.859624</td>\n",
       "      <td>0.738</td>\n",
       "      <td>1970026.0</td>\n",
       "      <td>2.472270</td>\n",
       "      <td>4.870447e+06</td>\n",
       "      <td>13.852905</td>\n",
       "      <td>2.729064e+07</td>\n",
       "      <td>-11.380635</td>\n",
       "      <td>-4.603313</td>\n",
       "      <td>Middle East/Central Asia</td>\n",
       "      <td>HI</td>\n",
       "      <td>ARE</td>\n",
       "    </tr>\n",
       "    <tr>\n",
       "      <td>2</td>\n",
       "      <td>1992</td>\n",
       "      <td>United Arab Emirates</td>\n",
       "      <td>AE</td>\n",
       "      <td>6.348376</td>\n",
       "      <td>0.742</td>\n",
       "      <td>2086639.0</td>\n",
       "      <td>2.382417</td>\n",
       "      <td>4.971246e+06</td>\n",
       "      <td>12.829025</td>\n",
       "      <td>2.676956e+07</td>\n",
       "      <td>-10.446608</td>\n",
       "      <td>-4.384879</td>\n",
       "      <td>Middle East/Central Asia</td>\n",
       "      <td>HI</td>\n",
       "      <td>ARE</td>\n",
       "    </tr>\n",
       "    <tr>\n",
       "      <td>3</td>\n",
       "      <td>1993</td>\n",
       "      <td>United Arab Emirates</td>\n",
       "      <td>AE</td>\n",
       "      <td>6.331413</td>\n",
       "      <td>0.748</td>\n",
       "      <td>2207405.0</td>\n",
       "      <td>2.255677</td>\n",
       "      <td>4.979203e+06</td>\n",
       "      <td>12.545192</td>\n",
       "      <td>2.769238e+07</td>\n",
       "      <td>-10.289515</td>\n",
       "      <td>-4.561609</td>\n",
       "      <td>Middle East/Central Asia</td>\n",
       "      <td>HI</td>\n",
       "      <td>ARE</td>\n",
       "    </tr>\n",
       "    <tr>\n",
       "      <td>4</td>\n",
       "      <td>1994</td>\n",
       "      <td>United Arab Emirates</td>\n",
       "      <td>AE</td>\n",
       "      <td>6.670189</td>\n",
       "      <td>0.756</td>\n",
       "      <td>2328686.0</td>\n",
       "      <td>2.143710</td>\n",
       "      <td>4.992035e+06</td>\n",
       "      <td>13.122528</td>\n",
       "      <td>3.055830e+07</td>\n",
       "      <td>-10.978818</td>\n",
       "      <td>-5.121411</td>\n",
       "      <td>Middle East/Central Asia</td>\n",
       "      <td>HI</td>\n",
       "      <td>ARE</td>\n",
       "    </tr>\n",
       "  </tbody>\n",
       "</table>\n",
       "</div>"
      ],
      "text/plain": [
       "   Year               Country Code    Earths    HDI  Population  BiocapPerCap  \\\n",
       "0  1990  United Arab Emirates   AE  6.237739  0.727   1860174.0      2.602391   \n",
       "1  1991  United Arab Emirates   AE  6.859624  0.738   1970026.0      2.472270   \n",
       "2  1992  United Arab Emirates   AE  6.348376  0.742   2086639.0      2.382417   \n",
       "3  1993  United Arab Emirates   AE  6.331413  0.748   2207405.0      2.255677   \n",
       "4  1994  United Arab Emirates   AE  6.670189  0.756   2328686.0      2.143710   \n",
       "\n",
       "   BiocapTotGHA  EFConsPerCap  EFConsTotGHA       DeRe  Percentage  \\\n",
       "0  4.840890e+06     12.902908  2.400160e+07 -10.300517   -3.958097   \n",
       "1  4.870447e+06     13.852905  2.729064e+07 -11.380635   -4.603313   \n",
       "2  4.971246e+06     12.829025  2.676956e+07 -10.446608   -4.384879   \n",
       "3  4.979203e+06     12.545192  2.769238e+07 -10.289515   -4.561609   \n",
       "4  4.992035e+06     13.122528  3.055830e+07 -10.978818   -5.121411   \n",
       "\n",
       "                     Region Income   id  \n",
       "0  Middle East/Central Asia     HI  ARE  \n",
       "1  Middle East/Central Asia     HI  ARE  \n",
       "2  Middle East/Central Asia     HI  ARE  \n",
       "3  Middle East/Central Asia     HI  ARE  \n",
       "4  Middle East/Central Asia     HI  ARE  "
      ]
     },
     "execution_count": 6,
     "metadata": {},
     "output_type": "execute_result"
    }
   ],
   "source": [
    "df.head()"
   ]
  },
  {
   "cell_type": "code",
   "execution_count": 7,
   "metadata": {},
   "outputs": [],
   "source": [
    "country_list = list(set(df.Country))"
   ]
  },
  {
   "cell_type": "code",
   "execution_count": 16,
   "metadata": {},
   "outputs": [],
   "source": [
    "years = []\n",
    "for i in range(1990,2017):\n",
    "    years.append(i)\n",
    "    "
   ]
  },
  {
   "cell_type": "code",
   "execution_count": 29,
   "metadata": {},
   "outputs": [],
   "source": [
    "for country in country_list:\n",
    "    if (df[df.Country == country][\"Year\"].tolist() != years):\n",
    "        df = df[df.Country != country]"
   ]
  },
  {
   "cell_type": "code",
   "execution_count": 31,
   "metadata": {},
   "outputs": [],
   "source": [
    "df.to_csv(path_or_buf=\"../data/GapMinder.csv\", index = False)"
   ]
  },
  {
   "cell_type": "code",
   "execution_count": null,
   "metadata": {},
   "outputs": [],
   "source": []
  }
 ],
 "metadata": {
  "kernelspec": {
   "display_name": "Python 3",
   "language": "python",
   "name": "python3"
  },
  "language_info": {
   "codemirror_mode": {
    "name": "ipython",
    "version": 3
   },
   "file_extension": ".py",
   "mimetype": "text/x-python",
   "name": "python",
   "nbconvert_exporter": "python",
   "pygments_lexer": "ipython3",
   "version": "3.7.4"
  }
 },
 "nbformat": 4,
 "nbformat_minor": 2
}
